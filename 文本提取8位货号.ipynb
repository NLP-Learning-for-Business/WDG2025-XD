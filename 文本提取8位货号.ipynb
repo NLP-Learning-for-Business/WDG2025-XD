{
 "cells": [
  {
   "cell_type": "code",
   "execution_count": 1,
   "metadata": {},
   "outputs": [],
   "source": [
    "import pandas as pd\n",
    "import re\n",
    "import numpy as np"
   ]
  },
  {
   "cell_type": "code",
   "execution_count": 2,
   "metadata": {},
   "outputs": [],
   "source": [
    "# 桌面地址\n",
    "local_path='C:/Users/wejia43/OneDrive - IKEA/Desktop/'\n",
    "\n",
    "# 文本列名\n",
    "name='工单内容'\n",
    "# 金额列名\n",
    "value=\"补偿金额\"\n",
    "# 唯一索引\n",
    "auto=\"工单编号\"\n",
    "\n",
    "# 原始文件名\n",
    "file_name='9月'\n",
    "# 输出文件名\n",
    "final_name='1233'"
   ]
  },
  {
   "cell_type": "code",
   "execution_count": 3,
   "metadata": {},
   "outputs": [],
   "source": [
    "# 读取数据\n",
    "data=pd.read_excel(local_path+file_name+\".xlsx\",sheet_name=\"Sheet1\",index=False)"
   ]
  },
  {
   "cell_type": "code",
   "execution_count": 4,
   "metadata": {},
   "outputs": [],
   "source": [
    "for i in range(0,data.shape[0]):\n",
    "    # 去掉. -\n",
    "    tmp=data.loc[i,name].replace(r'.','').replace(r'-','')\n",
    "    # 查找数字\n",
    "    num=re.findall(r'\\d+',tmp)\n",
    "    # 只保留长度为8的\n",
    "    article=str([j for j in num if len(j)==8])\n",
    "    # 去掉'\n",
    "    article=article[1:len(article)-1].replace('\\'','')\n",
    "    # 生成新的一列用于存储\n",
    "    data.loc[i,'Article_No']=article\n",
    "    # 拆分备用列\n",
    "    data.loc[i,'拆分备用']=article"
   ]
  },
  {
   "cell_type": "code",
   "execution_count": 13,
   "metadata": {},
   "outputs": [],
   "source": [
    "# 获取列名\n",
    "pd_cols=list(data.columns)\n",
    "# 获取固定列索引\n",
    "index_1=pd_cols[0:len(pd_cols)-1]\n",
    "# 获取操作列索引\n",
    "index_2=pd_cols[len(pd_cols)-1]\n",
    "# 拆分货号为多行\n",
    "df=data.set_index(index_1)[index_2].str.split(\",\",expand=True).stack().reset_index(drop=True,level=-1).reset_index().rename(columns={0: \"Article_No_split\"})\n",
    "\n",
    "\n",
    "df['Article_No_split']=df['Article_No_split'].str.strip()"
   ]
  },
  {
   "cell_type": "code",
   "execution_count": 26,
   "metadata": {},
   "outputs": [],
   "source": [
    "def maturity_count(data_col, val):\n",
    "    \"\"\"\n",
    "    data_col : 输入data的某一列 如要输入pid这一列,则输入data.pid\n",
    "    val : 特定data_col这一列索要查询的value值\n",
    "\n",
    "    return  : 返回指定列，某一个值(val)出现多少次\n",
    "    \"\"\"\n",
    "\n",
    "    data_pid_dict = data_col.value_counts()\n",
    "    count = data_pid_dict[val]\n",
    "\n",
    "    return count"
   ]
  },
  {
   "cell_type": "code",
   "execution_count": null,
   "metadata": {},
   "outputs": [],
   "source": [
    "# 平均拆分金额\n",
    "for j in range(0,df.shape[0]):\n",
    "    tmp=df.loc[j,value]/maturity_count(df[auto],df.loc[j,auto])\n",
    "    df.loc[j,'补偿金额_split']=tmp\n",
    "df"
   ]
  },
  {
   "cell_type": "code",
   "execution_count": 14,
   "metadata": {},
   "outputs": [],
   "source": [
    "# 输出\n",
    "df.to_excel(local_path+final_name+\".xlsx\",index=False)"
   ]
  }
 ],
 "metadata": {
  "kernelspec": {
   "display_name": "base",
   "language": "python",
   "name": "python3"
  },
  "language_info": {
   "codemirror_mode": {
    "name": "ipython",
    "version": 3
   },
   "file_extension": ".py",
   "mimetype": "text/x-python",
   "name": "python",
   "nbconvert_exporter": "python",
   "pygments_lexer": "ipython3",
   "version": "3.7.4"
  }
 },
 "nbformat": 4,
 "nbformat_minor": 2
}
